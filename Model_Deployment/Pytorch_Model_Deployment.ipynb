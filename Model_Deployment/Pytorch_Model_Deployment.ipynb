{
  "cells": [
    {
      "cell_type": "markdown",
      "metadata": {
        "id": "7BPI9YxaVrRd"
      },
      "source": [
        "### Import all the necessary libraries"
      ]
    },
    {
      "cell_type": "code",
      "execution_count": 48,
      "metadata": {
        "id": "qDi5q17MVGQD"
      },
      "outputs": [],
      "source": [
        "import torch\n",
        "import torchvision\n",
        "from torchvision import transforms, datasets\n",
        "from torch import nn\n",
        "import matplotlib.pyplot as plt\n",
        "import requests\n",
        "import pathlib\n",
        "import os\n",
        "import data, data_setup, engine, utils"
      ]
    },
    {
      "cell_type": "markdown",
      "metadata": {
        "id": "DEADEXq2Vw2G"
      },
      "source": [
        "### Setting up a device agnostic code"
      ]
    },
    {
      "cell_type": "code",
      "execution_count": 49,
      "metadata": {
        "id": "UNVjsXlSVwb4"
      },
      "outputs": [],
      "source": [
        "device = 'cuda' if torch.cuda.is_available() else 'cpu'"
      ]
    },
    {
      "cell_type": "markdown",
      "metadata": {
        "id": "Ogso75ODV99s"
      },
      "source": [
        "### Getting the 20% data for our models"
      ]
    },
    {
      "cell_type": "code",
      "execution_count": 50,
      "metadata": {
        "colab": {
          "base_uri": "https://localhost:8080/"
        },
        "id": "aK2oXhb1V4wr",
        "outputId": "2a9e4406-d642-4fdb-c709-7f2f29b8bada"
      },
      "outputs": [
        {
          "name": "stdout",
          "output_type": "stream",
          "text": [
            "Data\\pizza_steak_sushi Already exists, Skipping the creation part...\n",
            "Downloading Data\\pizza_steak_sushi.zip...\n"
          ]
        }
      ],
      "source": [
        "data_20_percent = data.download_data(source_url = 'https://github.com/mrdbourke/pytorch-deep-learning/raw/main/data/pizza_steak_sushi_20_percent.zip',\n",
        "                                     data_folder_name = 'pizza_steak_sushi')"
      ]
    },
    {
      "cell_type": "markdown",
      "metadata": {
        "id": "P9VP8XMrXI36"
      },
      "source": [
        "### Creating training and testing directories"
      ]
    },
    {
      "cell_type": "code",
      "execution_count": 51,
      "metadata": {
        "id": "lFO4ngmFXIeO"
      },
      "outputs": [],
      "source": [
        "DATA_PATH = pathlib.Path('Data')\n",
        "IMG_FOLDER = DATA_PATH/'pizza_steak_sushi'\n",
        "\n",
        "train_dir = IMG_FOLDER/'train'\n",
        "test_dir = IMG_FOLDER/'test'"
      ]
    },
    {
      "cell_type": "markdown",
      "metadata": {
        "id": "oX1MXDw4g7X5"
      },
      "source": [
        "### Creating a seed function"
      ]
    },
    {
      "cell_type": "code",
      "execution_count": 52,
      "metadata": {
        "id": "Aseb13ifg502"
      },
      "outputs": [],
      "source": [
        "def set_seed(seed: int=42):\n",
        "  torch.cuda.manual_seed(seed)\n",
        "  torch.manual_seed(seed)"
      ]
    },
    {
      "cell_type": "markdown",
      "metadata": {
        "id": "fsvGBn-tXDQY"
      },
      "source": [
        "### Getting the pretrained weights for EffNet_b2"
      ]
    },
    {
      "cell_type": "code",
      "execution_count": 53,
      "metadata": {
        "colab": {
          "base_uri": "https://localhost:8080/"
        },
        "id": "gHSQISvdYf9F",
        "outputId": "5e9bdbbc-6799-41d5-9c1b-b93574035704"
      },
      "outputs": [
        {
          "name": "stderr",
          "output_type": "stream",
          "text": [
            "WARNING: You are using pip version 21.2.3; however, version 23.3.1 is available.\n",
            "You should consider upgrading via the 'C:\\Users\\Saud\\AppData\\Local\\Programs\\Python\\Python39\\python.exe -m pip install --upgrade pip' command.\n"
          ]
        }
      ],
      "source": [
        "! pip install -q torchinfo efficientnet_pytorch"
      ]
    },
    {
      "cell_type": "code",
      "execution_count": 54,
      "metadata": {
        "colab": {
          "base_uri": "https://localhost:8080/"
        },
        "id": "gyApd5PQXAxq",
        "outputId": "ea71bba9-fb43-4a23-f4c5-b1e36a0b0ada"
      },
      "outputs": [
        {
          "name": "stdout",
          "output_type": "stream",
          "text": [
            "Loaded pretrained weights for efficientnet-b2\n",
            "[INFO] EfficientNet_b2 created successfully\n"
          ]
        }
      ],
      "source": [
        "from torchvision import models\n",
        "from efficientnet_pytorch import EfficientNet\n",
        "\n",
        "def effnet_b2_model():\n",
        "  eff_weights = models.EfficientNet_B2_Weights.DEFAULT\n",
        "  eff_model = EfficientNet.from_pretrained('efficientnet-b2')\n",
        "  eff_transform = eff_weights.transforms()\n",
        "  eff_model.to(device)\n",
        "\n",
        "  for param in eff_model.parameters():\n",
        "    param.requires_grad = False\n",
        "\n",
        "  set_seed(seed=42)\n",
        "  eff_model._fc = nn.Sequential(\n",
        "      nn.Dropout(p=0.3, inplace=True),\n",
        "      nn.Linear(in_features= eff_model._fc.in_features, out_features = 3, bias=True)\n",
        "  ).to(device)\n",
        "\n",
        "  eff_model.name = 'EfficientNet_b2'\n",
        "  print(f'[INFO] {eff_model.name} created successfully')\n",
        "  return eff_model, eff_transform\n",
        "\n",
        "effb2_model, effb2_transform = effnet_b2_model()"
      ]
    },
    {
      "cell_type": "markdown",
      "metadata": {
        "id": "pF4ggXiZgU_N"
      },
      "source": [
        "### Creating datasets, dataloaders and transforms for effnet_b2"
      ]
    },
    {
      "cell_type": "code",
      "execution_count": 55,
      "metadata": {
        "id": "_bO2dpjGXA0U"
      },
      "outputs": [],
      "source": [
        "BATCH_SIZE = 32\n",
        "OS_WORKERS = os.cpu_count()\n",
        "\n",
        "\n",
        "eff_train_dl, eff_test_dl, num_classes, class_idx = data_setup.data_loaders(train_dir=train_dir, test_dir=test_dir,\n",
        "                                                                    batch_size=BATCH_SIZE, data_transform= effb2_transform,\n",
        "                                                                            num_os_workers= OS_WORKERS)\n"
      ]
    },
    {
      "cell_type": "markdown",
      "metadata": {
        "id": "Qte7OSdakECY"
      },
      "source": [
        "### Setting up loss function, optimizer and accuracy function for effnet_b2"
      ]
    },
    {
      "cell_type": "code",
      "execution_count": 56,
      "metadata": {
        "id": "Zf-gR6FDXAuS"
      },
      "outputs": [],
      "source": [
        "def accuracy_score(y_true, y_pred):\n",
        "  eq = torch.eq(y_true, y_pred).sum().item()\n",
        "  acc = eq/len(y_pred)\n",
        "  return acc\n",
        "\n",
        "eff_loss = nn.CrossEntropyLoss()\n",
        "eff_optim = torch.optim.Adam(effb2_model.parameters(), lr=1e-3)"
      ]
    },
    {
      "cell_type": "markdown",
      "metadata": {
        "id": "IXNIRhiXn7Oj"
      },
      "source": [
        "### Setting up a training code for effnet_b2 model"
      ]
    },
    {
      "cell_type": "code",
      "execution_count": 57,
      "metadata": {
        "colab": {
          "base_uri": "https://localhost:8080/"
        },
        "id": "zY5UqmUPXArr",
        "outputId": "eab27a59-5d9d-4b1a-da28-a94a7fd21dba"
      },
      "outputs": [],
      "source": [
        "# NUM_EPOCHS = 10\n",
        "\n",
        "# set_seed(seed=42)\n",
        "# effnetb2_results = engine.train(model = effb2_model, train_dataloader= eff_train_dl,\n",
        "#                                 test_dataloader = eff_test_dl, loss_fn = eff_loss,\n",
        "#                                 optimizer = eff_optim, accuracy_fn = accuracy_score, epochs = NUM_EPOCHS,\n",
        "#                                 device = device)"
      ]
    },
    {
      "cell_type": "markdown",
      "metadata": {
        "id": "-2_adT2ZxNup"
      },
      "source": [
        "### Saving effnet_b2 model"
      ]
    },
    {
      "cell_type": "code",
      "execution_count": 58,
      "metadata": {
        "colab": {
          "base_uri": "https://localhost:8080/"
        },
        "id": "BdvuySF_vvoR",
        "outputId": "433819c5-0afb-47d3-f1fe-1033b7934387"
      },
      "outputs": [],
      "source": [
        "MODEL_NAME = 'Effnet_b2_10_epochs_new.pth'\n",
        "MODEL_PATH = pathlib.Path('Models')\n",
        "# utils.save_model(model= effb2_model, target_dir = MODEL_PATH, model_name=MODEL_NAME)"
      ]
    },
    {
      "cell_type": "markdown",
      "metadata": {
        "id": "ZYMoMo8_v8pp"
      },
      "source": [
        "### Plotting the loss curves of effnet_b2 model"
      ]
    },
    {
      "cell_type": "code",
      "execution_count": 59,
      "metadata": {
        "colab": {
          "base_uri": "https://localhost:8080/"
        },
        "id": "QGg_NUVvXAoV",
        "outputId": "60593026-3792-4cea-d104-b6a242b9d910"
      },
      "outputs": [],
      "source": [
        "# import requests\n",
        "\n",
        "# url = \"https://raw.githubusercontent.com/mrdbourke/pytorch-deep-learning/main/helper_functions.py\"\n",
        "\n",
        "# try:\n",
        "#   from helper_functions import plot_loss_curves\n",
        "# except:\n",
        "#   print('[INFO] helper_functions not found, Downloading...')\n",
        "#   with open('helper_functions.py', 'wb') as f:\n",
        "#     req = requests.get(url)\n",
        "#     f.write(req.content)\n"
      ]
    },
    {
      "cell_type": "code",
      "execution_count": 60,
      "metadata": {
        "colab": {
          "base_uri": "https://localhost:8080/",
          "height": 498
        },
        "id": "yshGBUQfXAfR",
        "outputId": "347e329a-ea56-449a-a7a9-37cb7962263c"
      },
      "outputs": [],
      "source": [
        "# from helper_functions import plot_loss_curves\n",
        "\n",
        "# plot_loss_curves(effnetb2_results)"
      ]
    },
    {
      "cell_type": "markdown",
      "metadata": {
        "id": "PCmSF7EF8q5r"
      },
      "source": [
        "### Checking the size of effnet_b2 model and other stats"
      ]
    },
    {
      "cell_type": "code",
      "execution_count": 61,
      "metadata": {
        "colab": {
          "base_uri": "https://localhost:8080/"
        },
        "id": "s8CAgi2t9OBC",
        "outputId": "9b0d4d39-00be-47e0-f5fa-86176eb69fdb"
      },
      "outputs": [],
      "source": [
        "# eff_size = pathlib.Path('Models/Effnet_b2_10_epochs_new.pth').stat().st_size//(1024*1024)\n",
        "# eff_params = sum(torch.numel(param) for param in effb2_model.parameters())\n",
        "\n",
        "# stats = {'Test-Loss': effnetb2_results['test_loss'][-1],\n",
        "#          'Test-Acc': effnetb2_results['test_acc'][-1],\n",
        "#          'Number of Parameters': eff_params,\n",
        "#          'Total Size (MB)': eff_size}\n",
        "# stats"
      ]
    },
    {
      "cell_type": "markdown",
      "metadata": {
        "id": "yXhhznWJ8DvI"
      },
      "source": [
        "### Getting pretrained weights for ViT_b_16 model"
      ]
    },
    {
      "cell_type": "code",
      "execution_count": 62,
      "metadata": {
        "colab": {
          "base_uri": "https://localhost:8080/"
        },
        "id": "931_sG7Rx2yV",
        "outputId": "e2d250a4-92f3-4973-fbcd-0d4c7c64f13a"
      },
      "outputs": [
        {
          "name": "stdout",
          "output_type": "stream",
          "text": [
            "[INFO] ViT_b_16_model created successfully\n"
          ]
        }
      ],
      "source": [
        "def vit_16_model():\n",
        "  vit_weights = models.ViT_B_16_Weights.DEFAULT\n",
        "  vit_model = models.vit_b_16(weights=vit_weights)\n",
        "  vit_transform = vit_weights.transforms()\n",
        "  vit_model.to(device)\n",
        "\n",
        "  for param in vit_model.parameters():\n",
        "    param.requires_grad = False\n",
        "\n",
        "  set_seed(seed=42)\n",
        "  vit_model.heads = nn.Sequential(\n",
        "      nn.Linear(in_features = 768, out_features = 3)\n",
        "  ).to(device)\n",
        "\n",
        "  vit_model.name = 'ViT_b_16_model'\n",
        "  print(f'[INFO] {vit_model.name} created successfully')\n",
        "  return vit_model, vit_transform\n",
        "\n",
        "vitb16_model, vitb16_transform = vit_16_model()"
      ]
    },
    {
      "cell_type": "markdown",
      "metadata": {
        "id": "CFVxO30uDX76"
      },
      "source": [
        "### Creating datasets, dataloaders and transforms for vit_b_16 model\n"
      ]
    },
    {
      "cell_type": "code",
      "execution_count": 63,
      "metadata": {
        "id": "YXsKrprqCg4X"
      },
      "outputs": [],
      "source": [
        "vit_train_dl, vit_test_dl, num_classes, class_idx = data_setup.data_loaders(train_dir = train_dir, test_dir = test_dir,\n",
        "                                                                            batch_size = BATCH_SIZE, data_transform = vitb16_transform,\n",
        "                                                                            num_os_workers=OS_WORKERS)"
      ]
    },
    {
      "cell_type": "markdown",
      "metadata": {
        "id": "FPZB87TJnc3c"
      },
      "source": [
        "### Setting up a loss function and optimizer for vit model"
      ]
    },
    {
      "cell_type": "code",
      "execution_count": 64,
      "metadata": {
        "id": "NH2_590mEGnI"
      },
      "outputs": [],
      "source": [
        "vit_loss = nn.CrossEntropyLoss()\n",
        "vit_optim = torch.optim.Adam(vitb16_model.parameters(), lr=1e-3)"
      ]
    },
    {
      "cell_type": "markdown",
      "metadata": {
        "id": "LNLY9x75oEV8"
      },
      "source": [
        "### Setting up a training code for vit model"
      ]
    },
    {
      "cell_type": "code",
      "execution_count": 65,
      "metadata": {
        "colab": {
          "base_uri": "https://localhost:8080/"
        },
        "id": "uGKTWABin5uZ",
        "outputId": "95855d72-c03e-4342-8acf-502410af0937"
      },
      "outputs": [],
      "source": [
        "# set_seed(seed=42)\n",
        "# vitb16_results = engine.train(model= vitb16_model,\n",
        "#                               train_dataloader = vit_train_dl,\n",
        "#                               test_dataloader = vit_test_dl,\n",
        "#                               epochs= NUM_EPOCHS,\n",
        "#                               loss_fn = vit_loss,\n",
        "#                               optimizer= vit_optim,\n",
        "#                               accuracy_fn = accuracy_score,\n",
        "#                               device=device)\n"
      ]
    },
    {
      "cell_type": "markdown",
      "metadata": {
        "id": "e_7oPsPYUh3S"
      },
      "source": [
        "### Saving the vitb16 model"
      ]
    },
    {
      "cell_type": "code",
      "execution_count": 66,
      "metadata": {
        "colab": {
          "base_uri": "https://localhost:8080/"
        },
        "id": "AMkoCxqlUdWz",
        "outputId": "3cac989e-66ee-4fa0-ec97-77226dec5292"
      },
      "outputs": [],
      "source": [
        "MODEL2_NAME = 'ViT_b_16_10_epochs_new.pth'\n",
        "\n",
        "# utils.save_model(model = vitb16_model, target_dir= MODEL_PATH, model_name=MODEL2_NAME)"
      ]
    },
    {
      "cell_type": "markdown",
      "metadata": {
        "id": "R_a6xH_3USJ4"
      },
      "source": [
        "### Plotting the loss curves for vitb16 model"
      ]
    },
    {
      "cell_type": "code",
      "execution_count": 67,
      "metadata": {
        "colab": {
          "base_uri": "https://localhost:8080/",
          "height": 498
        },
        "id": "DY1UEIutzh_z",
        "outputId": "5e52b4c0-61dc-4550-c138-5c28c657729e"
      },
      "outputs": [],
      "source": [
        "# from helper_functions import plot_loss_curves\n",
        "\n",
        "# plot_loss_curves(vitb16_results)"
      ]
    },
    {
      "cell_type": "markdown",
      "metadata": {
        "id": "qGzDrleSVM5y"
      },
      "source": [
        "### Checking the size of the vitb16 model and other stats"
      ]
    },
    {
      "cell_type": "code",
      "execution_count": 68,
      "metadata": {
        "colab": {
          "base_uri": "https://localhost:8080/"
        },
        "id": "ys7PS0q_UozP",
        "outputId": "d66f98b7-b3da-4d83-eb9a-474854fbe71b"
      },
      "outputs": [],
      "source": [
        "# vit_params = sum(torch.numel(param) for param in vitb16_model.parameters())\n",
        "# vit_size = pathlib.Path('Models/ViT_b_16_10_epochs_new.pth').stat().st_size//(1024*1024)\n",
        "\n",
        "# stats = {'Test-Loss': vitb16_results['test_loss'][-1],\n",
        "#          'Test-Acc': vitb16_results['test_acc'][-1],\n",
        "#          'Number of Parameters': vit_params,\n",
        "#          'Total Size (MB)': vit_size}\n",
        "\n",
        "# stats"
      ]
    },
    {
      "cell_type": "markdown",
      "metadata": {
        "id": "JSVm-KCXXlh0"
      },
      "source": [
        "### Creating a path list for test dataset"
      ]
    },
    {
      "cell_type": "code",
      "execution_count": 69,
      "metadata": {
        "colab": {
          "base_uri": "https://localhost:8080/"
        },
        "id": "RrDBCJxrVePF",
        "outputId": "dbeeb935-3707-491c-f43b-989b6f8b546e"
      },
      "outputs": [
        {
          "name": "stdout",
          "output_type": "stream",
          "text": [
            "[INFO] Displaying the first five image paths out of entire test dataset\n"
          ]
        },
        {
          "data": {
            "text/plain": [
              "[WindowsPath('Data/pizza_steak_sushi/test/pizza/1001116.jpg'),\n",
              " WindowsPath('Data/pizza_steak_sushi/test/pizza/1032754.jpg'),\n",
              " WindowsPath('Data/pizza_steak_sushi/test/pizza/1067986.jpg'),\n",
              " WindowsPath('Data/pizza_steak_sushi/test/pizza/1152100.jpg'),\n",
              " WindowsPath('Data/pizza_steak_sushi/test/pizza/129666.jpg')]"
            ]
          },
          "execution_count": 69,
          "metadata": {},
          "output_type": "execute_result"
        }
      ],
      "source": [
        "print(f\"[INFO] Displaying the first five image paths out of entire test dataset\")\n",
        "test_data_path = list(pathlib.Path(test_dir).glob('*/*.jpg'))\n",
        "test_data_path[:5]"
      ]
    },
    {
      "cell_type": "markdown",
      "metadata": {
        "id": "2ewpUMWtYf92"
      },
      "source": [
        "### Creating a function for predictions and timing the models\n"
      ]
    },
    {
      "cell_type": "code",
      "execution_count": 70,
      "metadata": {
        "id": "_ESg3h4BYX13"
      },
      "outputs": [],
      "source": [
        "import pathlib\n",
        "import torch\n",
        "\n",
        "from PIL import Image\n",
        "from timeit import default_timer as timer\n",
        "from tqdm.auto import tqdm\n",
        "from typing import List, Dict\n",
        "\n",
        "# 1. Create a function to return a list of dictionaries with sample, truth label, prediction, prediction probability and prediction time\n",
        "def pred_and_store(paths: List[pathlib.Path],\n",
        "                   model: torch.nn.Module,\n",
        "                   transform: torchvision.transforms,\n",
        "                   class_names: List[str],\n",
        "                   device: str = \"cuda\" if torch.cuda.is_available() else \"cpu\") -> List[Dict]:\n",
        "\n",
        "    # 2. Create an empty list to store prediction dictionaires\n",
        "    pred_list = []\n",
        "\n",
        "    # 3. Loop through target paths\n",
        "    for path in tqdm(paths):\n",
        "\n",
        "        # 4. Create empty dictionary to store prediction information for each sample\n",
        "        pred_dict = {}\n",
        "\n",
        "        # 5. Get the sample path and ground truth class name\n",
        "        pred_dict[\"image_path\"] = path\n",
        "        pred_dict[\"class_name\"] = path.parent.stem\n",
        "\n",
        "        # 6. Start the prediction timer\n",
        "        start_time = timer()\n",
        "\n",
        "        # 7. Open image path\n",
        "        img = Image.open(path)\n",
        "\n",
        "        # 8. Transform the image, add batch dimension and put image on target device\n",
        "        transformed_image = transform(img).unsqueeze(0).to(device)\n",
        "\n",
        "        # 9. Prepare model for inference by sending it to target device and turning on eval() mode\n",
        "        model.to(device)\n",
        "        model.eval()\n",
        "\n",
        "        # 10. Get prediction probability, predicition label and prediction class\n",
        "        with torch.inference_mode():\n",
        "            pred_logit = model(transformed_image) # perform inference on target sample\n",
        "            pred_prob = torch.softmax(pred_logit, dim=1) # turn logits into prediction probabilities\n",
        "            pred_label = torch.argmax(pred_prob, dim=1) # turn prediction probabilities into prediction label\n",
        "            pred_class = class_names[pred_label.cpu()] # hardcode prediction class to be on CPU\n",
        "\n",
        "            # 11. Make sure things in the dictionary are on CPU (required for inspecting predictions later on)\n",
        "            pred_dict[\"pred_prob\"] = round(pred_prob.unsqueeze(0).max().cpu().item(), 4)\n",
        "            pred_dict[\"pred_class\"] = pred_class\n",
        "\n",
        "            # 12. End the timer and calculate time per pred\n",
        "            end_time = timer()\n",
        "            pred_dict[\"time_for_pred\"] = round(end_time-start_time, 4)\n",
        "\n",
        "        # 13. Does the pred match the true label?\n",
        "        pred_dict[\"correct\"] = pred_dict['class_name'] == pred_class\n",
        "\n",
        "        # 14. Add the dictionary to the list of preds\n",
        "        pred_list.append(pred_dict)\n",
        "\n",
        "    # 15. Return list of prediction dictionaries\n",
        "    return pred_list"
      ]
    },
    {
      "cell_type": "markdown",
      "metadata": {
        "id": "C8yCLsSxe6ep"
      },
      "source": [
        "### Loading the effnet b2 model"
      ]
    },
    {
      "cell_type": "code",
      "execution_count": 71,
      "metadata": {
        "id": "rxOvrQOie5-r"
      },
      "outputs": [],
      "source": [
        "effnetb2_loaded = torch.load(MODEL_PATH/MODEL_NAME, map_location= torch.device(type='cpu'))"
      ]
    },
    {
      "cell_type": "markdown",
      "metadata": {
        "id": "ZuVvN4iPgLDB"
      },
      "source": [
        "### Making predictions with effnetb2 model"
      ]
    },
    {
      "cell_type": "code",
      "execution_count": 72,
      "metadata": {
        "colab": {
          "base_uri": "https://localhost:8080/",
          "height": 292,
          "referenced_widgets": [
            "a01657be25b44797b38f190dc341cb29",
            "6e2cc7b90fd344ab80c25ae58643bf38",
            "098a8a939b8d41ac944276030b1d060a",
            "11caacc6b72b48e8bf20c7e7700ff165",
            "ad6c1fe3de424e2ab744bf45a92bc7fe",
            "8ac409a6cd39444bb81f1df12e4c3448",
            "11dc2c099631494cb303bf1da2a996ca",
            "36ac58c65d964568b2e4892775fddf4e",
            "a8354cebd53e46beb016ac6cb8918df4",
            "f6eb546e201841cd8cd45dd141736ee2",
            "3b435ac40ee24d8580a7217c745102d3"
          ]
        },
        "id": "j-S38tWNfIdV",
        "outputId": "738b7104-6a23-4097-cb01-b807fe3cc2ed"
      },
      "outputs": [
        {
          "name": "stdout",
          "output_type": "stream",
          "text": [
            "Loaded pretrained weights for efficientnet-b2\n",
            "[INFO] EfficientNet_b2 created successfully\n"
          ]
        },
        {
          "name": "stderr",
          "output_type": "stream",
          "text": [
            "100%|██████████| 211/211 [02:37<00:00,  1.34it/s]\n"
          ]
        },
        {
          "data": {
            "text/plain": [
              "[{'image_path': WindowsPath('Data/pizza_steak_sushi/test/pizza/1001116.jpg'),\n",
              "  'class_name': 'pizza',\n",
              "  'pred_prob': 0.9813,\n",
              "  'pred_class': 'pizza',\n",
              "  'time_for_pred': 3.1665,\n",
              "  'correct': True},\n",
              " {'image_path': WindowsPath('Data/pizza_steak_sushi/test/pizza/1032754.jpg'),\n",
              "  'class_name': 'pizza',\n",
              "  'pred_prob': 0.549,\n",
              "  'pred_class': 'pizza',\n",
              "  'time_for_pred': 1.9055,\n",
              "  'correct': True}]"
            ]
          },
          "execution_count": 72,
          "metadata": {},
          "output_type": "execute_result"
        }
      ],
      "source": [
        "effb2_model, effb2_transform = effnet_b2_model()\n",
        "\n",
        "effb2_model.load_state_dict(effnetb2_loaded)\n",
        "\n",
        "effnetb2_predictions_test = pred_and_store(paths=test_data_path,\n",
        "                                           model=effb2_model,\n",
        "                                           transform=effb2_transform,\n",
        "                                           class_names=num_classes,\n",
        "                                           device='cpu')\n",
        "\n",
        "\n",
        "effnetb2_predictions_test[:2]"
      ]
    },
    {
      "cell_type": "markdown",
      "metadata": {
        "id": "zJdEC73tfcxi"
      },
      "source": [
        "### Loading the vitb16 model"
      ]
    },
    {
      "cell_type": "code",
      "execution_count": 73,
      "metadata": {
        "id": "h5-gOdp1fcXT"
      },
      "outputs": [],
      "source": [
        "vitb16_loaded = torch.load(MODEL_PATH/MODEL2_NAME, map_location=torch.device(type='cpu'))"
      ]
    },
    {
      "cell_type": "markdown",
      "metadata": {
        "id": "X8k7_rwhjffx"
      },
      "source": [
        "### Making predictions with ViTb16 model"
      ]
    },
    {
      "cell_type": "code",
      "execution_count": 74,
      "metadata": {
        "colab": {
          "base_uri": "https://localhost:8080/",
          "height": 275,
          "referenced_widgets": [
            "262311a781f54258b9160e4f6910c26b",
            "9e022213d6d54557aea06d4678312cab",
            "b736ec6ba15f4e14aa253911554e51cd",
            "abdd84fd44344bc498b16aa28fd1f800",
            "157f5f62d4e64d04b5a447250d27a862",
            "57128c377aa14f268bcc6ce59a06e1e9",
            "8e3149137cb2435ebbcc961993b8a197",
            "47edc560ce374593840c82dc469755f8",
            "2ae980a7e37641a783570e3c5ddea28b",
            "f2d316f5c8af402c92e3a6ca3b67e753",
            "21edc9c71ea94a46a97a2af4258b822b"
          ]
        },
        "id": "dNQyCfJQgvOi",
        "outputId": "68902fd8-fdd1-4add-ce59-6751af4d8630"
      },
      "outputs": [
        {
          "name": "stdout",
          "output_type": "stream",
          "text": [
            "[INFO] ViT_b_16_model created successfully\n"
          ]
        },
        {
          "name": "stderr",
          "output_type": "stream",
          "text": [
            "100%|██████████| 211/211 [03:16<00:00,  1.07it/s]\n"
          ]
        },
        {
          "data": {
            "text/plain": [
              "[{'image_path': WindowsPath('Data/pizza_steak_sushi/test/pizza/1001116.jpg'),\n",
              "  'class_name': 'pizza',\n",
              "  'pred_prob': 0.9987,\n",
              "  'pred_class': 'pizza',\n",
              "  'time_for_pred': 1.3048,\n",
              "  'correct': True},\n",
              " {'image_path': WindowsPath('Data/pizza_steak_sushi/test/pizza/1032754.jpg'),\n",
              "  'class_name': 'pizza',\n",
              "  'pred_prob': 0.9957,\n",
              "  'pred_class': 'pizza',\n",
              "  'time_for_pred': 0.6921,\n",
              "  'correct': True}]"
            ]
          },
          "execution_count": 74,
          "metadata": {},
          "output_type": "execute_result"
        }
      ],
      "source": [
        "vitb16_model, vitb16_transform = vit_16_model()\n",
        "\n",
        "vitb16_model.load_state_dict(vitb16_loaded)\n",
        "\n",
        "vitb16_predictions_test = pred_and_store(paths=test_data_path,\n",
        "                                           model=vitb16_model,\n",
        "                                           transform=vitb16_transform,\n",
        "                                           class_names=num_classes,\n",
        "                                           device='cpu')\n",
        "\n",
        "\n",
        "vitb16_predictions_test[:2]"
      ]
    },
    {
      "cell_type": "markdown",
      "metadata": {
        "id": "pmYSqa0TnS_T"
      },
      "source": [
        "### Creating dataframe for our ease"
      ]
    },
    {
      "cell_type": "code",
      "execution_count": 75,
      "metadata": {
        "colab": {
          "base_uri": "https://localhost:8080/",
          "height": 206
        },
        "id": "h0feuUffjklP",
        "outputId": "f9ab38a1-0df1-4abb-9297-134711d7de97"
      },
      "outputs": [
        {
          "data": {
            "text/html": [
              "<div>\n",
              "<style scoped>\n",
              "    .dataframe tbody tr th:only-of-type {\n",
              "        vertical-align: middle;\n",
              "    }\n",
              "\n",
              "    .dataframe tbody tr th {\n",
              "        vertical-align: top;\n",
              "    }\n",
              "\n",
              "    .dataframe thead th {\n",
              "        text-align: right;\n",
              "    }\n",
              "</style>\n",
              "<table border=\"1\" class=\"dataframe\">\n",
              "  <thead>\n",
              "    <tr style=\"text-align: right;\">\n",
              "      <th></th>\n",
              "      <th>image_path</th>\n",
              "      <th>class_name</th>\n",
              "      <th>pred_prob</th>\n",
              "      <th>pred_class</th>\n",
              "      <th>time_for_pred</th>\n",
              "      <th>correct</th>\n",
              "    </tr>\n",
              "  </thead>\n",
              "  <tbody>\n",
              "    <tr>\n",
              "      <th>0</th>\n",
              "      <td>Data\\pizza_steak_sushi\\test\\pizza\\1001116.jpg</td>\n",
              "      <td>pizza</td>\n",
              "      <td>0.9813</td>\n",
              "      <td>pizza</td>\n",
              "      <td>3.1665</td>\n",
              "      <td>True</td>\n",
              "    </tr>\n",
              "    <tr>\n",
              "      <th>1</th>\n",
              "      <td>Data\\pizza_steak_sushi\\test\\pizza\\1032754.jpg</td>\n",
              "      <td>pizza</td>\n",
              "      <td>0.5490</td>\n",
              "      <td>pizza</td>\n",
              "      <td>1.9055</td>\n",
              "      <td>True</td>\n",
              "    </tr>\n",
              "    <tr>\n",
              "      <th>2</th>\n",
              "      <td>Data\\pizza_steak_sushi\\test\\pizza\\1067986.jpg</td>\n",
              "      <td>pizza</td>\n",
              "      <td>0.9867</td>\n",
              "      <td>pizza</td>\n",
              "      <td>1.5721</td>\n",
              "      <td>True</td>\n",
              "    </tr>\n",
              "    <tr>\n",
              "      <th>3</th>\n",
              "      <td>Data\\pizza_steak_sushi\\test\\pizza\\1152100.jpg</td>\n",
              "      <td>pizza</td>\n",
              "      <td>0.8414</td>\n",
              "      <td>pizza</td>\n",
              "      <td>1.0168</td>\n",
              "      <td>True</td>\n",
              "    </tr>\n",
              "    <tr>\n",
              "      <th>4</th>\n",
              "      <td>Data\\pizza_steak_sushi\\test\\pizza\\129666.jpg</td>\n",
              "      <td>pizza</td>\n",
              "      <td>0.9169</td>\n",
              "      <td>pizza</td>\n",
              "      <td>1.0486</td>\n",
              "      <td>True</td>\n",
              "    </tr>\n",
              "  </tbody>\n",
              "</table>\n",
              "</div>"
            ],
            "text/plain": [
              "                                      image_path class_name  pred_prob  \\\n",
              "0  Data\\pizza_steak_sushi\\test\\pizza\\1001116.jpg      pizza     0.9813   \n",
              "1  Data\\pizza_steak_sushi\\test\\pizza\\1032754.jpg      pizza     0.5490   \n",
              "2  Data\\pizza_steak_sushi\\test\\pizza\\1067986.jpg      pizza     0.9867   \n",
              "3  Data\\pizza_steak_sushi\\test\\pizza\\1152100.jpg      pizza     0.8414   \n",
              "4   Data\\pizza_steak_sushi\\test\\pizza\\129666.jpg      pizza     0.9169   \n",
              "\n",
              "  pred_class  time_for_pred  correct  \n",
              "0      pizza         3.1665     True  \n",
              "1      pizza         1.9055     True  \n",
              "2      pizza         1.5721     True  \n",
              "3      pizza         1.0168     True  \n",
              "4      pizza         1.0486     True  "
            ]
          },
          "execution_count": 75,
          "metadata": {},
          "output_type": "execute_result"
        }
      ],
      "source": [
        "import pandas as pd\n",
        "\n",
        "df1 = pd.DataFrame(effnetb2_predictions_test)\n",
        "df2 = pd.DataFrame(vitb16_predictions_test)\n",
        "df1.head()"
      ]
    },
    {
      "cell_type": "markdown",
      "metadata": {
        "id": "YH_vKouloirE"
      },
      "source": [
        "### Checking for performance (accuracy) and speed (FPS)"
      ]
    },
    {
      "cell_type": "code",
      "execution_count": 76,
      "metadata": {
        "colab": {
          "base_uri": "https://localhost:8080/"
        },
        "id": "pWJ3bGKNoPty",
        "outputId": "86ec4202-1282-4cfb-9007-f8a4d59b08d7"
      },
      "outputs": [
        {
          "data": {
            "text/plain": [
              "correct\n",
              "True     198\n",
              "False     13\n",
              "Name: count, dtype: int64"
            ]
          },
          "execution_count": 76,
          "metadata": {},
          "output_type": "execute_result"
        }
      ],
      "source": [
        "df1.correct.value_counts()"
      ]
    },
    {
      "cell_type": "code",
      "execution_count": 77,
      "metadata": {
        "colab": {
          "base_uri": "https://localhost:8080/"
        },
        "id": "MEpnfy03oa_Q",
        "outputId": "43b925db-99d4-4be7-8322-04cf4d16d5b6"
      },
      "outputs": [
        {
          "data": {
            "text/plain": [
              "correct\n",
              "True     204\n",
              "False      7\n",
              "Name: count, dtype: int64"
            ]
          },
          "execution_count": 77,
          "metadata": {},
          "output_type": "execute_result"
        }
      ],
      "source": [
        "df2.correct.value_counts()"
      ]
    },
    {
      "cell_type": "code",
      "execution_count": 78,
      "metadata": {
        "colab": {
          "base_uri": "https://localhost:8080/"
        },
        "id": "dH1JUIOcoem1",
        "outputId": "d88b1f07-e89b-4d7a-f7e3-2db9c6e4959b"
      },
      "outputs": [
        {
          "data": {
            "text/plain": [
              "0.7338"
            ]
          },
          "execution_count": 78,
          "metadata": {},
          "output_type": "execute_result"
        }
      ],
      "source": [
        "round(df1.time_for_pred.mean(),4)"
      ]
    },
    {
      "cell_type": "code",
      "execution_count": 79,
      "metadata": {
        "colab": {
          "base_uri": "https://localhost:8080/"
        },
        "id": "yFoUnFTKpGr9",
        "outputId": "a04c8139-1fc5-4682-cd50-0f2b1884c15b"
      },
      "outputs": [
        {
          "data": {
            "text/plain": [
              "0.9284"
            ]
          },
          "execution_count": 79,
          "metadata": {},
          "output_type": "execute_result"
        }
      ],
      "source": [
        "round(df2.time_for_pred.mean(),4)"
      ]
    },
    {
      "cell_type": "markdown",
      "metadata": {
        "id": "qkdmmNECGJAP"
      },
      "source": [
        "### Creating a gradio demo app"
      ]
    },
    {
      "cell_type": "code",
      "execution_count": 80,
      "metadata": {
        "colab": {
          "base_uri": "https://localhost:8080/",
          "height": 477
        },
        "id": "7BZSRlMIRi6u",
        "outputId": "63704568-ec4d-4060-9dd7-d7c2921fc3ca"
      },
      "outputs": [],
      "source": [
        "import gradio as gr"
      ]
    },
    {
      "cell_type": "code",
      "execution_count": 81,
      "metadata": {
        "id": "vBb0zjfeXXkE"
      },
      "outputs": [
        {
          "data": {
            "text/plain": [
              "device(type='cpu')"
            ]
          },
          "execution_count": 81,
          "metadata": {},
          "output_type": "execute_result"
        }
      ],
      "source": [
        "next(iter(effb2_model.parameters())).device"
      ]
    },
    {
      "cell_type": "markdown",
      "metadata": {
        "id": "clL10UxfRuKf"
      },
      "source": [
        "### Creating a predict function for our gradio interface"
      ]
    },
    {
      "cell_type": "code",
      "execution_count": 82,
      "metadata": {
        "id": "gUOzWw0hRmX_"
      },
      "outputs": [],
      "source": [
        "from typing import Tuple, Dict\n",
        "import random\n",
        "from PIL import Image\n",
        "from timeit import default_timer as timer\n",
        "\n",
        "def predict(img)->Tuple[Dict, float]:\n",
        "\n",
        "  start_time = timer()\n",
        "\n",
        "  transformed_img = effb2_transform(img).unsqueeze(dim=0)\n",
        "  effb2_model.eval()\n",
        "  with torch.inference_mode():\n",
        "    logits = effb2_model(transformed_img)\n",
        "    pred_probs = torch.softmax(logits, dim=1)\n",
        "\n",
        "  end_time = timer()\n",
        "  predictions_dict = {num_classes[i]: float(pred_probs[0][i]) for i in range(len(num_classes))}\n",
        "\n",
        "  pred_time = round(end_time-start_time, 5)\n",
        "  return predictions_dict, pred_time\n"
      ]
    },
    {
      "cell_type": "markdown",
      "metadata": {
        "id": "NZ84XpyPTUDe"
      },
      "source": [
        "### Testing the predict funtion with some random test samples"
      ]
    },
    {
      "cell_type": "code",
      "execution_count": 83,
      "metadata": {
        "id": "WxyhvKo3SBBR"
      },
      "outputs": [
        {
          "name": "stdout",
          "output_type": "stream",
          "text": [
            "Prediction Class and Probabilities: {'pizza': 0.1848863810300827, 'steak': 0.22075796127319336, 'sushi': 0.5943556427955627}\n",
            "Prediction Time: 2.70941\n"
          ]
        }
      ],
      "source": [
        "random_test_sample = random.sample(test_data_path, k=1)[0]\n",
        "img = Image.open(random_test_sample)\n",
        "pred_dict, pred_time = predict(img)\n",
        "\n",
        "print(f'Prediction Class and Probabilities: {pred_dict}')\n",
        "print(f'Prediction Time: {pred_time}')\n",
        "\n"
      ]
    },
    {
      "cell_type": "markdown",
      "metadata": {
        "id": "8M8r5lQfUtNZ"
      },
      "source": [
        "### Creating a list of lists as required for examples in gradio interface"
      ]
    },
    {
      "cell_type": "code",
      "execution_count": 84,
      "metadata": {
        "id": "ZqLzJ2q7T1le"
      },
      "outputs": [
        {
          "data": {
            "text/plain": [
              "[['Data\\\\pizza_steak_sushi\\\\test\\\\sushi\\\\3227791.jpg'],\n",
              " ['Data\\\\pizza_steak_sushi\\\\test\\\\steak\\\\2117351.jpg'],\n",
              " ['Data\\\\pizza_steak_sushi\\\\test\\\\steak\\\\3553838.jpg']]"
            ]
          },
          "execution_count": 84,
          "metadata": {},
          "output_type": "execute_result"
        }
      ],
      "source": [
        "list_of_examples = [[str(filepath)] for filepath in random.sample(test_data_path, k=3)]\n",
        "list_of_examples"
      ]
    },
    {
      "cell_type": "markdown",
      "metadata": {
        "id": "UwRQDPTEVEb8"
      },
      "source": [
        "### Creating Gradio Interface"
      ]
    },
    {
      "cell_type": "code",
      "execution_count": 86,
      "metadata": {
        "id": "3j2K7os8VCv-"
      },
      "outputs": [
        {
          "name": "stdout",
          "output_type": "stream",
          "text": [
            "Running on local URL:  http://127.0.0.1:7861\n",
            "Running on public URL: https://a31a867ecfc8a1a779.gradio.live\n",
            "\n",
            "This share link expires in 72 hours. For free permanent hosting and GPU upgrades, run `gradio deploy` from Terminal to deploy to Spaces (https://huggingface.co/spaces)\n"
          ]
        },
        {
          "data": {
            "text/html": [
              "<div><iframe src=\"https://a31a867ecfc8a1a779.gradio.live\" width=\"100%\" height=\"500\" allow=\"autoplay; camera; microphone; clipboard-read; clipboard-write;\" frameborder=\"0\" allowfullscreen></iframe></div>"
            ],
            "text/plain": [
              "<IPython.core.display.HTML object>"
            ]
          },
          "metadata": {},
          "output_type": "display_data"
        },
        {
          "data": {
            "text/plain": []
          },
          "execution_count": 86,
          "metadata": {},
          "output_type": "execute_result"
        }
      ],
      "source": [
        "title = 'FoodVision Mini App'\n",
        "description = 'An Efficientnetb2 feature extractor computer vision model to classify food images as pizza, steak or sushi'\n",
        "article = 'Pytorch Model Deployment'\n",
        "app = gr.Interface(fn = predict,\n",
        "                   inputs = gr.Image(type='pil'),\n",
        "                   outputs = [gr.Label(num_top_classes=3, label='Predictions'),\n",
        "                              gr.Number(label='Predictions Time (s)')],\n",
        "                   title=title,\n",
        "                   examples=list_of_examples,\n",
        "                   description=description,\n",
        "                   article=article)\n",
        "\n",
        "app.launch(debug=False, share=True)"
      ]
    },
    {
      "cell_type": "code",
      "execution_count": null,
      "metadata": {
        "id": "rVey1GKKWBZx"
      },
      "outputs": [],
      "source": []
    }
  ],
  "metadata": {
    "accelerator": "GPU",
    "colab": {
      "provenance": []
    },
    "kernelspec": {
      "display_name": "Python 3",
      "name": "python3"
    },
    "language_info": {
      "name": "python"
    },
    "widgets": {
      "application/vnd.jupyter.widget-state+json": {
        "098a8a939b8d41ac944276030b1d060a": {
          "model_module": "@jupyter-widgets/controls",
          "model_module_version": "1.5.0",
          "model_name": "FloatProgressModel",
          "state": {
            "_dom_classes": [],
            "_model_module": "@jupyter-widgets/controls",
            "_model_module_version": "1.5.0",
            "_model_name": "FloatProgressModel",
            "_view_count": null,
            "_view_module": "@jupyter-widgets/controls",
            "_view_module_version": "1.5.0",
            "_view_name": "ProgressView",
            "bar_style": "success",
            "description": "",
            "description_tooltip": null,
            "layout": "IPY_MODEL_36ac58c65d964568b2e4892775fddf4e",
            "max": 150,
            "min": 0,
            "orientation": "horizontal",
            "style": "IPY_MODEL_a8354cebd53e46beb016ac6cb8918df4",
            "value": 150
          }
        },
        "11caacc6b72b48e8bf20c7e7700ff165": {
          "model_module": "@jupyter-widgets/controls",
          "model_module_version": "1.5.0",
          "model_name": "HTMLModel",
          "state": {
            "_dom_classes": [],
            "_model_module": "@jupyter-widgets/controls",
            "_model_module_version": "1.5.0",
            "_model_name": "HTMLModel",
            "_view_count": null,
            "_view_module": "@jupyter-widgets/controls",
            "_view_module_version": "1.5.0",
            "_view_name": "HTMLView",
            "description": "",
            "description_tooltip": null,
            "layout": "IPY_MODEL_f6eb546e201841cd8cd45dd141736ee2",
            "placeholder": "​",
            "style": "IPY_MODEL_3b435ac40ee24d8580a7217c745102d3",
            "value": " 150/150 [00:18&lt;00:00,  8.78it/s]"
          }
        },
        "11dc2c099631494cb303bf1da2a996ca": {
          "model_module": "@jupyter-widgets/controls",
          "model_module_version": "1.5.0",
          "model_name": "DescriptionStyleModel",
          "state": {
            "_model_module": "@jupyter-widgets/controls",
            "_model_module_version": "1.5.0",
            "_model_name": "DescriptionStyleModel",
            "_view_count": null,
            "_view_module": "@jupyter-widgets/base",
            "_view_module_version": "1.2.0",
            "_view_name": "StyleView",
            "description_width": ""
          }
        },
        "157f5f62d4e64d04b5a447250d27a862": {
          "model_module": "@jupyter-widgets/base",
          "model_module_version": "1.2.0",
          "model_name": "LayoutModel",
          "state": {
            "_model_module": "@jupyter-widgets/base",
            "_model_module_version": "1.2.0",
            "_model_name": "LayoutModel",
            "_view_count": null,
            "_view_module": "@jupyter-widgets/base",
            "_view_module_version": "1.2.0",
            "_view_name": "LayoutView",
            "align_content": null,
            "align_items": null,
            "align_self": null,
            "border": null,
            "bottom": null,
            "display": null,
            "flex": null,
            "flex_flow": null,
            "grid_area": null,
            "grid_auto_columns": null,
            "grid_auto_flow": null,
            "grid_auto_rows": null,
            "grid_column": null,
            "grid_gap": null,
            "grid_row": null,
            "grid_template_areas": null,
            "grid_template_columns": null,
            "grid_template_rows": null,
            "height": null,
            "justify_content": null,
            "justify_items": null,
            "left": null,
            "margin": null,
            "max_height": null,
            "max_width": null,
            "min_height": null,
            "min_width": null,
            "object_fit": null,
            "object_position": null,
            "order": null,
            "overflow": null,
            "overflow_x": null,
            "overflow_y": null,
            "padding": null,
            "right": null,
            "top": null,
            "visibility": null,
            "width": null
          }
        },
        "21edc9c71ea94a46a97a2af4258b822b": {
          "model_module": "@jupyter-widgets/controls",
          "model_module_version": "1.5.0",
          "model_name": "DescriptionStyleModel",
          "state": {
            "_model_module": "@jupyter-widgets/controls",
            "_model_module_version": "1.5.0",
            "_model_name": "DescriptionStyleModel",
            "_view_count": null,
            "_view_module": "@jupyter-widgets/base",
            "_view_module_version": "1.2.0",
            "_view_name": "StyleView",
            "description_width": ""
          }
        },
        "262311a781f54258b9160e4f6910c26b": {
          "model_module": "@jupyter-widgets/controls",
          "model_module_version": "1.5.0",
          "model_name": "HBoxModel",
          "state": {
            "_dom_classes": [],
            "_model_module": "@jupyter-widgets/controls",
            "_model_module_version": "1.5.0",
            "_model_name": "HBoxModel",
            "_view_count": null,
            "_view_module": "@jupyter-widgets/controls",
            "_view_module_version": "1.5.0",
            "_view_name": "HBoxView",
            "box_style": "",
            "children": [
              "IPY_MODEL_9e022213d6d54557aea06d4678312cab",
              "IPY_MODEL_b736ec6ba15f4e14aa253911554e51cd",
              "IPY_MODEL_abdd84fd44344bc498b16aa28fd1f800"
            ],
            "layout": "IPY_MODEL_157f5f62d4e64d04b5a447250d27a862"
          }
        },
        "2ae980a7e37641a783570e3c5ddea28b": {
          "model_module": "@jupyter-widgets/controls",
          "model_module_version": "1.5.0",
          "model_name": "ProgressStyleModel",
          "state": {
            "_model_module": "@jupyter-widgets/controls",
            "_model_module_version": "1.5.0",
            "_model_name": "ProgressStyleModel",
            "_view_count": null,
            "_view_module": "@jupyter-widgets/base",
            "_view_module_version": "1.2.0",
            "_view_name": "StyleView",
            "bar_color": null,
            "description_width": ""
          }
        },
        "36ac58c65d964568b2e4892775fddf4e": {
          "model_module": "@jupyter-widgets/base",
          "model_module_version": "1.2.0",
          "model_name": "LayoutModel",
          "state": {
            "_model_module": "@jupyter-widgets/base",
            "_model_module_version": "1.2.0",
            "_model_name": "LayoutModel",
            "_view_count": null,
            "_view_module": "@jupyter-widgets/base",
            "_view_module_version": "1.2.0",
            "_view_name": "LayoutView",
            "align_content": null,
            "align_items": null,
            "align_self": null,
            "border": null,
            "bottom": null,
            "display": null,
            "flex": null,
            "flex_flow": null,
            "grid_area": null,
            "grid_auto_columns": null,
            "grid_auto_flow": null,
            "grid_auto_rows": null,
            "grid_column": null,
            "grid_gap": null,
            "grid_row": null,
            "grid_template_areas": null,
            "grid_template_columns": null,
            "grid_template_rows": null,
            "height": null,
            "justify_content": null,
            "justify_items": null,
            "left": null,
            "margin": null,
            "max_height": null,
            "max_width": null,
            "min_height": null,
            "min_width": null,
            "object_fit": null,
            "object_position": null,
            "order": null,
            "overflow": null,
            "overflow_x": null,
            "overflow_y": null,
            "padding": null,
            "right": null,
            "top": null,
            "visibility": null,
            "width": null
          }
        },
        "3b435ac40ee24d8580a7217c745102d3": {
          "model_module": "@jupyter-widgets/controls",
          "model_module_version": "1.5.0",
          "model_name": "DescriptionStyleModel",
          "state": {
            "_model_module": "@jupyter-widgets/controls",
            "_model_module_version": "1.5.0",
            "_model_name": "DescriptionStyleModel",
            "_view_count": null,
            "_view_module": "@jupyter-widgets/base",
            "_view_module_version": "1.2.0",
            "_view_name": "StyleView",
            "description_width": ""
          }
        },
        "47edc560ce374593840c82dc469755f8": {
          "model_module": "@jupyter-widgets/base",
          "model_module_version": "1.2.0",
          "model_name": "LayoutModel",
          "state": {
            "_model_module": "@jupyter-widgets/base",
            "_model_module_version": "1.2.0",
            "_model_name": "LayoutModel",
            "_view_count": null,
            "_view_module": "@jupyter-widgets/base",
            "_view_module_version": "1.2.0",
            "_view_name": "LayoutView",
            "align_content": null,
            "align_items": null,
            "align_self": null,
            "border": null,
            "bottom": null,
            "display": null,
            "flex": null,
            "flex_flow": null,
            "grid_area": null,
            "grid_auto_columns": null,
            "grid_auto_flow": null,
            "grid_auto_rows": null,
            "grid_column": null,
            "grid_gap": null,
            "grid_row": null,
            "grid_template_areas": null,
            "grid_template_columns": null,
            "grid_template_rows": null,
            "height": null,
            "justify_content": null,
            "justify_items": null,
            "left": null,
            "margin": null,
            "max_height": null,
            "max_width": null,
            "min_height": null,
            "min_width": null,
            "object_fit": null,
            "object_position": null,
            "order": null,
            "overflow": null,
            "overflow_x": null,
            "overflow_y": null,
            "padding": null,
            "right": null,
            "top": null,
            "visibility": null,
            "width": null
          }
        },
        "57128c377aa14f268bcc6ce59a06e1e9": {
          "model_module": "@jupyter-widgets/base",
          "model_module_version": "1.2.0",
          "model_name": "LayoutModel",
          "state": {
            "_model_module": "@jupyter-widgets/base",
            "_model_module_version": "1.2.0",
            "_model_name": "LayoutModel",
            "_view_count": null,
            "_view_module": "@jupyter-widgets/base",
            "_view_module_version": "1.2.0",
            "_view_name": "LayoutView",
            "align_content": null,
            "align_items": null,
            "align_self": null,
            "border": null,
            "bottom": null,
            "display": null,
            "flex": null,
            "flex_flow": null,
            "grid_area": null,
            "grid_auto_columns": null,
            "grid_auto_flow": null,
            "grid_auto_rows": null,
            "grid_column": null,
            "grid_gap": null,
            "grid_row": null,
            "grid_template_areas": null,
            "grid_template_columns": null,
            "grid_template_rows": null,
            "height": null,
            "justify_content": null,
            "justify_items": null,
            "left": null,
            "margin": null,
            "max_height": null,
            "max_width": null,
            "min_height": null,
            "min_width": null,
            "object_fit": null,
            "object_position": null,
            "order": null,
            "overflow": null,
            "overflow_x": null,
            "overflow_y": null,
            "padding": null,
            "right": null,
            "top": null,
            "visibility": null,
            "width": null
          }
        },
        "6e2cc7b90fd344ab80c25ae58643bf38": {
          "model_module": "@jupyter-widgets/controls",
          "model_module_version": "1.5.0",
          "model_name": "HTMLModel",
          "state": {
            "_dom_classes": [],
            "_model_module": "@jupyter-widgets/controls",
            "_model_module_version": "1.5.0",
            "_model_name": "HTMLModel",
            "_view_count": null,
            "_view_module": "@jupyter-widgets/controls",
            "_view_module_version": "1.5.0",
            "_view_name": "HTMLView",
            "description": "",
            "description_tooltip": null,
            "layout": "IPY_MODEL_8ac409a6cd39444bb81f1df12e4c3448",
            "placeholder": "​",
            "style": "IPY_MODEL_11dc2c099631494cb303bf1da2a996ca",
            "value": "100%"
          }
        },
        "8ac409a6cd39444bb81f1df12e4c3448": {
          "model_module": "@jupyter-widgets/base",
          "model_module_version": "1.2.0",
          "model_name": "LayoutModel",
          "state": {
            "_model_module": "@jupyter-widgets/base",
            "_model_module_version": "1.2.0",
            "_model_name": "LayoutModel",
            "_view_count": null,
            "_view_module": "@jupyter-widgets/base",
            "_view_module_version": "1.2.0",
            "_view_name": "LayoutView",
            "align_content": null,
            "align_items": null,
            "align_self": null,
            "border": null,
            "bottom": null,
            "display": null,
            "flex": null,
            "flex_flow": null,
            "grid_area": null,
            "grid_auto_columns": null,
            "grid_auto_flow": null,
            "grid_auto_rows": null,
            "grid_column": null,
            "grid_gap": null,
            "grid_row": null,
            "grid_template_areas": null,
            "grid_template_columns": null,
            "grid_template_rows": null,
            "height": null,
            "justify_content": null,
            "justify_items": null,
            "left": null,
            "margin": null,
            "max_height": null,
            "max_width": null,
            "min_height": null,
            "min_width": null,
            "object_fit": null,
            "object_position": null,
            "order": null,
            "overflow": null,
            "overflow_x": null,
            "overflow_y": null,
            "padding": null,
            "right": null,
            "top": null,
            "visibility": null,
            "width": null
          }
        },
        "8e3149137cb2435ebbcc961993b8a197": {
          "model_module": "@jupyter-widgets/controls",
          "model_module_version": "1.5.0",
          "model_name": "DescriptionStyleModel",
          "state": {
            "_model_module": "@jupyter-widgets/controls",
            "_model_module_version": "1.5.0",
            "_model_name": "DescriptionStyleModel",
            "_view_count": null,
            "_view_module": "@jupyter-widgets/base",
            "_view_module_version": "1.2.0",
            "_view_name": "StyleView",
            "description_width": ""
          }
        },
        "9e022213d6d54557aea06d4678312cab": {
          "model_module": "@jupyter-widgets/controls",
          "model_module_version": "1.5.0",
          "model_name": "HTMLModel",
          "state": {
            "_dom_classes": [],
            "_model_module": "@jupyter-widgets/controls",
            "_model_module_version": "1.5.0",
            "_model_name": "HTMLModel",
            "_view_count": null,
            "_view_module": "@jupyter-widgets/controls",
            "_view_module_version": "1.5.0",
            "_view_name": "HTMLView",
            "description": "",
            "description_tooltip": null,
            "layout": "IPY_MODEL_57128c377aa14f268bcc6ce59a06e1e9",
            "placeholder": "​",
            "style": "IPY_MODEL_8e3149137cb2435ebbcc961993b8a197",
            "value": "100%"
          }
        },
        "a01657be25b44797b38f190dc341cb29": {
          "model_module": "@jupyter-widgets/controls",
          "model_module_version": "1.5.0",
          "model_name": "HBoxModel",
          "state": {
            "_dom_classes": [],
            "_model_module": "@jupyter-widgets/controls",
            "_model_module_version": "1.5.0",
            "_model_name": "HBoxModel",
            "_view_count": null,
            "_view_module": "@jupyter-widgets/controls",
            "_view_module_version": "1.5.0",
            "_view_name": "HBoxView",
            "box_style": "",
            "children": [
              "IPY_MODEL_6e2cc7b90fd344ab80c25ae58643bf38",
              "IPY_MODEL_098a8a939b8d41ac944276030b1d060a",
              "IPY_MODEL_11caacc6b72b48e8bf20c7e7700ff165"
            ],
            "layout": "IPY_MODEL_ad6c1fe3de424e2ab744bf45a92bc7fe"
          }
        },
        "a8354cebd53e46beb016ac6cb8918df4": {
          "model_module": "@jupyter-widgets/controls",
          "model_module_version": "1.5.0",
          "model_name": "ProgressStyleModel",
          "state": {
            "_model_module": "@jupyter-widgets/controls",
            "_model_module_version": "1.5.0",
            "_model_name": "ProgressStyleModel",
            "_view_count": null,
            "_view_module": "@jupyter-widgets/base",
            "_view_module_version": "1.2.0",
            "_view_name": "StyleView",
            "bar_color": null,
            "description_width": ""
          }
        },
        "abdd84fd44344bc498b16aa28fd1f800": {
          "model_module": "@jupyter-widgets/controls",
          "model_module_version": "1.5.0",
          "model_name": "HTMLModel",
          "state": {
            "_dom_classes": [],
            "_model_module": "@jupyter-widgets/controls",
            "_model_module_version": "1.5.0",
            "_model_name": "HTMLModel",
            "_view_count": null,
            "_view_module": "@jupyter-widgets/controls",
            "_view_module_version": "1.5.0",
            "_view_name": "HTMLView",
            "description": "",
            "description_tooltip": null,
            "layout": "IPY_MODEL_f2d316f5c8af402c92e3a6ca3b67e753",
            "placeholder": "​",
            "style": "IPY_MODEL_21edc9c71ea94a46a97a2af4258b822b",
            "value": " 150/150 [01:02&lt;00:00,  2.39it/s]"
          }
        },
        "ad6c1fe3de424e2ab744bf45a92bc7fe": {
          "model_module": "@jupyter-widgets/base",
          "model_module_version": "1.2.0",
          "model_name": "LayoutModel",
          "state": {
            "_model_module": "@jupyter-widgets/base",
            "_model_module_version": "1.2.0",
            "_model_name": "LayoutModel",
            "_view_count": null,
            "_view_module": "@jupyter-widgets/base",
            "_view_module_version": "1.2.0",
            "_view_name": "LayoutView",
            "align_content": null,
            "align_items": null,
            "align_self": null,
            "border": null,
            "bottom": null,
            "display": null,
            "flex": null,
            "flex_flow": null,
            "grid_area": null,
            "grid_auto_columns": null,
            "grid_auto_flow": null,
            "grid_auto_rows": null,
            "grid_column": null,
            "grid_gap": null,
            "grid_row": null,
            "grid_template_areas": null,
            "grid_template_columns": null,
            "grid_template_rows": null,
            "height": null,
            "justify_content": null,
            "justify_items": null,
            "left": null,
            "margin": null,
            "max_height": null,
            "max_width": null,
            "min_height": null,
            "min_width": null,
            "object_fit": null,
            "object_position": null,
            "order": null,
            "overflow": null,
            "overflow_x": null,
            "overflow_y": null,
            "padding": null,
            "right": null,
            "top": null,
            "visibility": null,
            "width": null
          }
        },
        "b736ec6ba15f4e14aa253911554e51cd": {
          "model_module": "@jupyter-widgets/controls",
          "model_module_version": "1.5.0",
          "model_name": "FloatProgressModel",
          "state": {
            "_dom_classes": [],
            "_model_module": "@jupyter-widgets/controls",
            "_model_module_version": "1.5.0",
            "_model_name": "FloatProgressModel",
            "_view_count": null,
            "_view_module": "@jupyter-widgets/controls",
            "_view_module_version": "1.5.0",
            "_view_name": "ProgressView",
            "bar_style": "success",
            "description": "",
            "description_tooltip": null,
            "layout": "IPY_MODEL_47edc560ce374593840c82dc469755f8",
            "max": 150,
            "min": 0,
            "orientation": "horizontal",
            "style": "IPY_MODEL_2ae980a7e37641a783570e3c5ddea28b",
            "value": 150
          }
        },
        "f2d316f5c8af402c92e3a6ca3b67e753": {
          "model_module": "@jupyter-widgets/base",
          "model_module_version": "1.2.0",
          "model_name": "LayoutModel",
          "state": {
            "_model_module": "@jupyter-widgets/base",
            "_model_module_version": "1.2.0",
            "_model_name": "LayoutModel",
            "_view_count": null,
            "_view_module": "@jupyter-widgets/base",
            "_view_module_version": "1.2.0",
            "_view_name": "LayoutView",
            "align_content": null,
            "align_items": null,
            "align_self": null,
            "border": null,
            "bottom": null,
            "display": null,
            "flex": null,
            "flex_flow": null,
            "grid_area": null,
            "grid_auto_columns": null,
            "grid_auto_flow": null,
            "grid_auto_rows": null,
            "grid_column": null,
            "grid_gap": null,
            "grid_row": null,
            "grid_template_areas": null,
            "grid_template_columns": null,
            "grid_template_rows": null,
            "height": null,
            "justify_content": null,
            "justify_items": null,
            "left": null,
            "margin": null,
            "max_height": null,
            "max_width": null,
            "min_height": null,
            "min_width": null,
            "object_fit": null,
            "object_position": null,
            "order": null,
            "overflow": null,
            "overflow_x": null,
            "overflow_y": null,
            "padding": null,
            "right": null,
            "top": null,
            "visibility": null,
            "width": null
          }
        },
        "f6eb546e201841cd8cd45dd141736ee2": {
          "model_module": "@jupyter-widgets/base",
          "model_module_version": "1.2.0",
          "model_name": "LayoutModel",
          "state": {
            "_model_module": "@jupyter-widgets/base",
            "_model_module_version": "1.2.0",
            "_model_name": "LayoutModel",
            "_view_count": null,
            "_view_module": "@jupyter-widgets/base",
            "_view_module_version": "1.2.0",
            "_view_name": "LayoutView",
            "align_content": null,
            "align_items": null,
            "align_self": null,
            "border": null,
            "bottom": null,
            "display": null,
            "flex": null,
            "flex_flow": null,
            "grid_area": null,
            "grid_auto_columns": null,
            "grid_auto_flow": null,
            "grid_auto_rows": null,
            "grid_column": null,
            "grid_gap": null,
            "grid_row": null,
            "grid_template_areas": null,
            "grid_template_columns": null,
            "grid_template_rows": null,
            "height": null,
            "justify_content": null,
            "justify_items": null,
            "left": null,
            "margin": null,
            "max_height": null,
            "max_width": null,
            "min_height": null,
            "min_width": null,
            "object_fit": null,
            "object_position": null,
            "order": null,
            "overflow": null,
            "overflow_x": null,
            "overflow_y": null,
            "padding": null,
            "right": null,
            "top": null,
            "visibility": null,
            "width": null
          }
        }
      }
    }
  },
  "nbformat": 4,
  "nbformat_minor": 0
}
