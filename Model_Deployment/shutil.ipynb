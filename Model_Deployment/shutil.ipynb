{
 "cells": [
  {
   "attachments": {},
   "cell_type": "markdown",
   "metadata": {},
   "source": [
    "### Importing all the ncessary libraries "
   ]
  },
  {
   "cell_type": "code",
   "execution_count": 1,
   "metadata": {},
   "outputs": [
    {
     "name": "stderr",
     "output_type": "stream",
     "text": [
      "d:\\Pytorch Course\\env\\lib\\site-packages\\tqdm\\auto.py:21: TqdmWarning: IProgress not found. Please update jupyter and ipywidgets. See https://ipywidgets.readthedocs.io/en/stable/user_install.html\n",
      "  from .autonotebook import tqdm as notebook_tqdm\n"
     ]
    }
   ],
   "source": [
    "import shutil\n",
    "from pathlib import Path\n",
    "import os\n",
    "import random\n",
    "import torch\n",
    "import torchvision\n",
    "import gradio"
   ]
  },
  {
   "cell_type": "code",
   "execution_count": 6,
   "metadata": {},
   "outputs": [
    {
     "name": "stdout",
     "output_type": "stream",
     "text": [
      "4.7.1\n",
      "2.1.1+cpu\n",
      "0.16.1+cpu\n"
     ]
    }
   ],
   "source": [
    "print(gradio.__version__)\n",
    "print(torch.__version__)\n",
    "print(torchvision.__version__)"
   ]
  },
  {
   "attachments": {},
   "cell_type": "markdown",
   "metadata": {},
   "source": [
    "### Creating a new folder Demo/FoodVision "
   ]
  },
  {
   "cell_type": "code",
   "execution_count": 7,
   "metadata": {},
   "outputs": [],
   "source": [
    "demo_foodvision_path = Path('Demo/FoodVision/')\n",
    "\n",
    "if demo_foodvision_path.exists():\n",
    "    shutil.rmtree(demo_foodvision_path)\n",
    "    demo_foodvision_path.mkdir(parents=True, exist_ok=True)\n",
    "else:\n",
    "    demo_foodvision_path.mkdir(parents=True, exist_ok=True)"
   ]
  },
  {
   "attachments": {},
   "cell_type": "markdown",
   "metadata": {},
   "source": [
    "### Creating a new folder examples inside Demo/FoodVision folder"
   ]
  },
  {
   "cell_type": "code",
   "execution_count": 8,
   "metadata": {},
   "outputs": [],
   "source": [
    "examples = demo_foodvision_path/'examples'\n",
    "\n",
    "if examples.exists():\n",
    "    print(f\"[INFO] Exxamples folder already exists.\")\n",
    "else:\n",
    "    examples.mkdir(parents=True, exist_ok=True)"
   ]
  },
  {
   "attachments": {},
   "cell_type": "markdown",
   "metadata": {},
   "source": [
    "### Moving some random test images inside the examples folder"
   ]
  },
  {
   "cell_type": "code",
   "execution_count": 9,
   "metadata": {},
   "outputs": [],
   "source": [
    "random_test_paths = [Path('Data/pizza_steak_sushi/test/pizza'), Path('Data/pizza_steak_sushi/test/steak'), \n",
    "                     Path('Data/pizza_steak_sushi/test/sushi')]\n",
    "\n",
    "for path in random_test_paths:\n",
    "    list_of_paths = list(path.glob('*'))\n",
    "    random_test_imgs = random.sample(list_of_paths, k=3)\n",
    "\n",
    "    for img_path in random_test_imgs:\n",
    "        shutil.copy2(src=img_path, dst=examples)"
   ]
  },
  {
   "attachments": {},
   "cell_type": "markdown",
   "metadata": {},
   "source": [
    "### Creating a list of examples as required by `examples parameter` in our gradio interface"
   ]
  },
  {
   "cell_type": "code",
   "execution_count": 10,
   "metadata": {},
   "outputs": [
    {
     "data": {
      "text/plain": [
       "[['examples/1016217.jpg'],\n",
       " ['examples/1245545.jpg'],\n",
       " ['examples/1315645.jpg'],\n",
       " ['examples/1680893.jpg'],\n",
       " ['examples/2752603.jpg'],\n",
       " ['examples/3173402.jpg'],\n",
       " ['examples/398345.jpg'],\n",
       " ['examples/476421.jpg'],\n",
       " ['examples/499605.jpg']]"
      ]
     },
     "execution_count": 10,
     "metadata": {},
     "output_type": "execute_result"
    }
   ],
   "source": [
    "list_of_examples = [['examples/'+ example] for example in os.listdir(examples)]\n",
    "list_of_examples"
   ]
  },
  {
   "attachments": {},
   "cell_type": "markdown",
   "metadata": {},
   "source": [
    "### Moving the trained weights of effnetb2 model into FoodVision directory"
   ]
  },
  {
   "cell_type": "code",
   "execution_count": 11,
   "metadata": {},
   "outputs": [
    {
     "name": "stdout",
     "output_type": "stream",
     "text": [
      "[INFO] Moving the model into Demo\\FoodVision\n",
      "[INFO] Move completed.\n"
     ]
    }
   ],
   "source": [
    "model_path = Path('Models/Effnet_b2_10_epochs.pth')\n",
    "\n",
    "try:\n",
    "    print(f'[INFO] Moving the model into {demo_foodvision_path}')\n",
    "    shutil.copy2(src=model_path, dst=demo_foodvision_path)\n",
    "    print(f'[INFO] Move completed.')\n",
    "except:\n",
    "    print(f'[INFO] No model found at {model_path}')\n",
    "    print(f'[INFO] Model exists at {demo_foodvision_path}: {demo_foodvision_path.exists()}')\n"
   ]
  },
  {
   "cell_type": "code",
   "execution_count": 2,
   "metadata": {},
   "outputs": [
    {
     "name": "stdout",
     "output_type": "stream",
     "text": [
      "Zip file created successfully.\n"
     ]
    }
   ],
   "source": [
    "import zipfile\n",
    "import os\n",
    "\n",
    "exclude_patterns = [\"*.pyc\", \"*.ipynb\", \"__pycache__\", \"ipynb_checkpoints\"]\n",
    "\n",
    "source_folder = \"Demo/FoodVision\"\n",
    "zip_filename = \"FoodVision.zip\"\n",
    "\n",
    "with zipfile.ZipFile(zip_filename, \"w\") as zipf:\n",
    "    for root, dirs, files in os.walk(source_folder):\n",
    "        for file in files:\n",
    "            if all(not file.endswith(pattern) for pattern in exclude_patterns):\n",
    "                file_path = os.path.join(root, file)\n",
    "                zipf.write(file_path, os.path.relpath(file_path, source_folder))\n",
    "\n",
    "print(\"Zip file created successfully.\")\n"
   ]
  },
  {
   "cell_type": "code",
   "execution_count": null,
   "metadata": {},
   "outputs": [],
   "source": []
  }
 ],
 "metadata": {
  "kernelspec": {
   "display_name": "env",
   "language": "python",
   "name": "python3"
  },
  "language_info": {
   "codemirror_mode": {
    "name": "ipython",
    "version": 3
   },
   "file_extension": ".py",
   "mimetype": "text/x-python",
   "name": "python",
   "nbconvert_exporter": "python",
   "pygments_lexer": "ipython3",
   "version": "3.9.7"
  },
  "orig_nbformat": 4
 },
 "nbformat": 4,
 "nbformat_minor": 2
}
